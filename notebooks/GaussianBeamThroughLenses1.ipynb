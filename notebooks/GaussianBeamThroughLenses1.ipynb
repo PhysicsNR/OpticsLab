import sys
sys.path.append('../core')  # If running from notebooks/ subfolder

from core.beam import GaussianBeam
from core.lens import Lens
from core.system import System

beam = GaussianBeam(wavelength=1064e-9, waist=1e-3)
L1 = Lens(focal_length=0.05, position=0.1)
L2 = Lens(focal_length=0.10, position=0.2)
system = System([L1, L2])
out_beam = system.propagate(beam)

print(f"Output waist: {out_beam.waist*1e3:.2f} mm")

beam.plot_profile(z_min=0, z_max=0.3)
out_beam.plot_profile(z_min=0, z_max=0.3)
