{
 "cells": [
  {
   "cell_type": "code",
   "execution_count": null,
   "id": "971aa810",
   "metadata": {},
   "outputs": [],
   "source": [
    "# Resonator stability demo\n",
    "\n",
    "import numpy as np\n",
    "import matplotlib.pyplot as plt\n",
    "\n",
    "# Cavity with two mirrors (radius R1, R2) and length L\n",
    "def stability_param(R1, R2, L):\n",
    "    g1 = 1 - L/R1\n",
    "    g2 = 1 - L/R2\n",
    "    return g1*g2\n",
    "\n",
    "L = np.linspace(0.01, 1.0, 200)\n",
    "R1 = 0.5\n",
    "R2 = 0.5\n",
    "g = stability_param(R1, R2, L)\n",
    "\n",
    "os.makedirs(\"output_plots\", exist_ok=True)\n",
    "\n",
    "plt.figure(figsize=(8,4))\n",
    "plt.plot(L, g)\n",
    "plt.axhline(0, color='k', ls='--')\n",
    "plt.axhline(1, color='k', ls='--')\n",
    "plt.xlabel(\"Cavity length (m)\")\n",
    "plt.ylabel(\"$g_1g_2$\")\n",
    "plt.title(\"Resonator Stability Parameter\")\n",
    "plt.grid(True)\n",
    "plt.savefig(\"output_plots/resonator_stability.png\")\n",
    "plt.show()\n"
   ]
  }
 ],
 "metadata": {
  "kernelspec": {
   "display_name": "Python (foc_env)",
   "language": "python",
   "name": "foc_env"
  },
  "language_info": {
   "codemirror_mode": {
    "name": "ipython",
    "version": 3
   },
   "file_extension": ".py",
   "mimetype": "text/x-python",
   "name": "python",
   "nbconvert_exporter": "python",
   "pygments_lexer": "ipython3",
   "version": "3.9.21"
  }
 },
 "nbformat": 4,
 "nbformat_minor": 5
}
